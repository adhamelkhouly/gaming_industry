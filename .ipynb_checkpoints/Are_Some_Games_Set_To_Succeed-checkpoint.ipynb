{
 "cells": [
  {
   "cell_type": "markdown",
   "metadata": {},
   "source": [
    "# A Look at The Gaming Industry (Genres and Releases)"
   ]
  },
  {
   "cell_type": "code",
   "execution_count": 1,
   "metadata": {},
   "outputs": [
    {
     "name": "stdout",
     "output_type": "stream",
     "text": [
      "Dataset Shape: (18625, 11)\n"
     ]
    },
    {
     "data": {
      "text/html": [
       "<div>\n",
       "<style scoped>\n",
       "    .dataframe tbody tr th:only-of-type {\n",
       "        vertical-align: middle;\n",
       "    }\n",
       "\n",
       "    .dataframe tbody tr th {\n",
       "        vertical-align: top;\n",
       "    }\n",
       "\n",
       "    .dataframe thead th {\n",
       "        text-align: right;\n",
       "    }\n",
       "</style>\n",
       "<table border=\"1\" class=\"dataframe\">\n",
       "  <thead>\n",
       "    <tr style=\"text-align: right;\">\n",
       "      <th></th>\n",
       "      <th>Unnamed: 0</th>\n",
       "      <th>score_phrase</th>\n",
       "      <th>title</th>\n",
       "      <th>url</th>\n",
       "      <th>platform</th>\n",
       "      <th>score</th>\n",
       "      <th>genre</th>\n",
       "      <th>editors_choice</th>\n",
       "      <th>release_year</th>\n",
       "      <th>release_month</th>\n",
       "      <th>release_day</th>\n",
       "    </tr>\n",
       "  </thead>\n",
       "  <tbody>\n",
       "    <tr>\n",
       "      <th>0</th>\n",
       "      <td>0</td>\n",
       "      <td>Amazing</td>\n",
       "      <td>LittleBigPlanet PS Vita</td>\n",
       "      <td>/games/littlebigplanet-vita/vita-98907</td>\n",
       "      <td>PlayStation Vita</td>\n",
       "      <td>9.0</td>\n",
       "      <td>Platformer</td>\n",
       "      <td>Y</td>\n",
       "      <td>2012</td>\n",
       "      <td>9</td>\n",
       "      <td>12</td>\n",
       "    </tr>\n",
       "    <tr>\n",
       "      <th>1</th>\n",
       "      <td>1</td>\n",
       "      <td>Amazing</td>\n",
       "      <td>LittleBigPlanet PS Vita -- Marvel Super Hero E...</td>\n",
       "      <td>/games/littlebigplanet-ps-vita-marvel-super-he...</td>\n",
       "      <td>PlayStation Vita</td>\n",
       "      <td>9.0</td>\n",
       "      <td>Platformer</td>\n",
       "      <td>Y</td>\n",
       "      <td>2012</td>\n",
       "      <td>9</td>\n",
       "      <td>12</td>\n",
       "    </tr>\n",
       "    <tr>\n",
       "      <th>2</th>\n",
       "      <td>2</td>\n",
       "      <td>Great</td>\n",
       "      <td>Splice: Tree of Life</td>\n",
       "      <td>/games/splice/ipad-141070</td>\n",
       "      <td>iPad</td>\n",
       "      <td>8.5</td>\n",
       "      <td>Puzzle</td>\n",
       "      <td>N</td>\n",
       "      <td>2012</td>\n",
       "      <td>9</td>\n",
       "      <td>12</td>\n",
       "    </tr>\n",
       "    <tr>\n",
       "      <th>3</th>\n",
       "      <td>3</td>\n",
       "      <td>Great</td>\n",
       "      <td>NHL 13</td>\n",
       "      <td>/games/nhl-13/xbox-360-128182</td>\n",
       "      <td>Xbox 360</td>\n",
       "      <td>8.5</td>\n",
       "      <td>Sports</td>\n",
       "      <td>N</td>\n",
       "      <td>2012</td>\n",
       "      <td>9</td>\n",
       "      <td>11</td>\n",
       "    </tr>\n",
       "    <tr>\n",
       "      <th>4</th>\n",
       "      <td>4</td>\n",
       "      <td>Great</td>\n",
       "      <td>NHL 13</td>\n",
       "      <td>/games/nhl-13/ps3-128181</td>\n",
       "      <td>PlayStation 3</td>\n",
       "      <td>8.5</td>\n",
       "      <td>Sports</td>\n",
       "      <td>N</td>\n",
       "      <td>2012</td>\n",
       "      <td>9</td>\n",
       "      <td>11</td>\n",
       "    </tr>\n",
       "  </tbody>\n",
       "</table>\n",
       "</div>"
      ],
      "text/plain": [
       "   Unnamed: 0 score_phrase                                              title  \\\n",
       "0           0      Amazing                            LittleBigPlanet PS Vita   \n",
       "1           1      Amazing  LittleBigPlanet PS Vita -- Marvel Super Hero E...   \n",
       "2           2        Great                               Splice: Tree of Life   \n",
       "3           3        Great                                             NHL 13   \n",
       "4           4        Great                                             NHL 13   \n",
       "\n",
       "                                                 url          platform  score  \\\n",
       "0             /games/littlebigplanet-vita/vita-98907  PlayStation Vita    9.0   \n",
       "1  /games/littlebigplanet-ps-vita-marvel-super-he...  PlayStation Vita    9.0   \n",
       "2                          /games/splice/ipad-141070              iPad    8.5   \n",
       "3                      /games/nhl-13/xbox-360-128182          Xbox 360    8.5   \n",
       "4                           /games/nhl-13/ps3-128181     PlayStation 3    8.5   \n",
       "\n",
       "        genre editors_choice  release_year  release_month  release_day  \n",
       "0  Platformer              Y          2012              9           12  \n",
       "1  Platformer              Y          2012              9           12  \n",
       "2      Puzzle              N          2012              9           12  \n",
       "3      Sports              N          2012              9           11  \n",
       "4      Sports              N          2012              9           11  "
      ]
     },
     "execution_count": 1,
     "metadata": {},
     "output_type": "execute_result"
    }
   ],
   "source": [
    "import numpy as np\n",
    "import pandas as pd\n",
    "import matplotlib.pyplot as plt\n",
    "from sklearn.linear_model import LinearRegression\n",
    "from sklearn.model_selection import train_test_split\n",
    "from sklearn.metrics import r2_score, mean_squared_error\n",
    "import seaborn as sns\n",
    "from itertools import chain\n",
    "from helpers import *\n",
    "np.random.seed(10)\n",
    "%matplotlib inline\n",
    "\n",
    "df = pd.read_csv('./ign.csv')\n",
    "\n",
    "\n",
    "print(\"Dataset Shape: {}\".format(df.shape))\n",
    "df.head()"
   ]
  },
  {
   "cell_type": "code",
   "execution_count": 2,
   "metadata": {},
   "outputs": [
    {
     "name": "stdout",
     "output_type": "stream",
     "text": [
      "Dataset Shape: (18588, 9)\n"
     ]
    },
    {
     "data": {
      "text/html": [
       "<div>\n",
       "<style scoped>\n",
       "    .dataframe tbody tr th:only-of-type {\n",
       "        vertical-align: middle;\n",
       "    }\n",
       "\n",
       "    .dataframe tbody tr th {\n",
       "        vertical-align: top;\n",
       "    }\n",
       "\n",
       "    .dataframe thead th {\n",
       "        text-align: right;\n",
       "    }\n",
       "</style>\n",
       "<table border=\"1\" class=\"dataframe\">\n",
       "  <thead>\n",
       "    <tr style=\"text-align: right;\">\n",
       "      <th></th>\n",
       "      <th>game_id</th>\n",
       "      <th>title</th>\n",
       "      <th>platform</th>\n",
       "      <th>score</th>\n",
       "      <th>genre</th>\n",
       "      <th>editors_choice</th>\n",
       "      <th>release_year</th>\n",
       "      <th>release_month</th>\n",
       "      <th>release_day</th>\n",
       "    </tr>\n",
       "  </thead>\n",
       "  <tbody>\n",
       "    <tr>\n",
       "      <th>0</th>\n",
       "      <td>0</td>\n",
       "      <td>LittleBigPlanet PS Vita</td>\n",
       "      <td>PlayStation Vita</td>\n",
       "      <td>9.0</td>\n",
       "      <td>Platformer</td>\n",
       "      <td>Y</td>\n",
       "      <td>2012</td>\n",
       "      <td>9</td>\n",
       "      <td>12</td>\n",
       "    </tr>\n",
       "    <tr>\n",
       "      <th>1</th>\n",
       "      <td>1</td>\n",
       "      <td>LittleBigPlanet PS Vita -- Marvel Super Hero E...</td>\n",
       "      <td>PlayStation Vita</td>\n",
       "      <td>9.0</td>\n",
       "      <td>Platformer</td>\n",
       "      <td>Y</td>\n",
       "      <td>2012</td>\n",
       "      <td>9</td>\n",
       "      <td>12</td>\n",
       "    </tr>\n",
       "    <tr>\n",
       "      <th>2</th>\n",
       "      <td>2</td>\n",
       "      <td>Splice: Tree of Life</td>\n",
       "      <td>iPad</td>\n",
       "      <td>8.5</td>\n",
       "      <td>Puzzle</td>\n",
       "      <td>N</td>\n",
       "      <td>2012</td>\n",
       "      <td>9</td>\n",
       "      <td>12</td>\n",
       "    </tr>\n",
       "    <tr>\n",
       "      <th>3</th>\n",
       "      <td>3</td>\n",
       "      <td>NHL 13</td>\n",
       "      <td>Xbox 360</td>\n",
       "      <td>8.5</td>\n",
       "      <td>Sports</td>\n",
       "      <td>N</td>\n",
       "      <td>2012</td>\n",
       "      <td>9</td>\n",
       "      <td>11</td>\n",
       "    </tr>\n",
       "    <tr>\n",
       "      <th>4</th>\n",
       "      <td>4</td>\n",
       "      <td>NHL 13</td>\n",
       "      <td>PlayStation 3</td>\n",
       "      <td>8.5</td>\n",
       "      <td>Sports</td>\n",
       "      <td>N</td>\n",
       "      <td>2012</td>\n",
       "      <td>9</td>\n",
       "      <td>11</td>\n",
       "    </tr>\n",
       "  </tbody>\n",
       "</table>\n",
       "</div>"
      ],
      "text/plain": [
       "   game_id                                              title  \\\n",
       "0        0                            LittleBigPlanet PS Vita   \n",
       "1        1  LittleBigPlanet PS Vita -- Marvel Super Hero E...   \n",
       "2        2                               Splice: Tree of Life   \n",
       "3        3                                             NHL 13   \n",
       "4        4                                             NHL 13   \n",
       "\n",
       "           platform  score       genre editors_choice  release_year  \\\n",
       "0  PlayStation Vita    9.0  Platformer              Y          2012   \n",
       "1  PlayStation Vita    9.0  Platformer              Y          2012   \n",
       "2              iPad    8.5      Puzzle              N          2012   \n",
       "3          Xbox 360    8.5      Sports              N          2012   \n",
       "4     PlayStation 3    8.5      Sports              N          2012   \n",
       "\n",
       "   release_month  release_day  \n",
       "0              9           12  \n",
       "1              9           12  \n",
       "2              9           12  \n",
       "3              9           11  \n",
       "4              9           11  "
      ]
     },
     "execution_count": 2,
     "metadata": {},
     "output_type": "execute_result"
    }
   ],
   "source": [
    "# Dropping unneccessary columns\n",
    "df.drop(['score_phrase', 'url'], axis=1, inplace=True)\n",
    "\n",
    "df.rename(columns={'Unnamed: 0': 'game_id'}, inplace=True)\n",
    "\n",
    "# Most rows are completely full, therefore I am going with deleting about 40 rows out of 18625\n",
    "df = df.dropna()\n",
    "\n",
    "# 1970 happens to only have 1 game, therefore I am not including that row\n",
    "df = df[df.release_year != 1970]\n",
    "\n",
    "print(\"Dataset Shape: {}\".format(df.shape))\n",
    "df.head()"
   ]
  },
  {
   "cell_type": "markdown",
   "metadata": {},
   "source": [
    "### I will start by some basic analysis, to get a feel for the data"
   ]
  },
  {
   "cell_type": "code",
   "execution_count": 3,
   "metadata": {},
   "outputs": [
    {
     "data": {
      "text/html": [
       "<div>\n",
       "<style scoped>\n",
       "    .dataframe tbody tr th:only-of-type {\n",
       "        vertical-align: middle;\n",
       "    }\n",
       "\n",
       "    .dataframe tbody tr th {\n",
       "        vertical-align: top;\n",
       "    }\n",
       "\n",
       "    .dataframe thead th {\n",
       "        text-align: right;\n",
       "    }\n",
       "</style>\n",
       "<table border=\"1\" class=\"dataframe\">\n",
       "  <thead>\n",
       "    <tr style=\"text-align: right;\">\n",
       "      <th></th>\n",
       "      <th>game_id</th>\n",
       "      <th>score</th>\n",
       "      <th>release_year</th>\n",
       "      <th>release_month</th>\n",
       "      <th>release_day</th>\n",
       "    </tr>\n",
       "  </thead>\n",
       "  <tbody>\n",
       "    <tr>\n",
       "      <th>count</th>\n",
       "      <td>18588.000000</td>\n",
       "      <td>18588.000000</td>\n",
       "      <td>18588.000000</td>\n",
       "      <td>18588.000000</td>\n",
       "      <td>18588.000000</td>\n",
       "    </tr>\n",
       "    <tr>\n",
       "      <th>mean</th>\n",
       "      <td>9306.783086</td>\n",
       "      <td>6.950769</td>\n",
       "      <td>2006.510598</td>\n",
       "      <td>7.140198</td>\n",
       "      <td>15.602216</td>\n",
       "    </tr>\n",
       "    <tr>\n",
       "      <th>std</th>\n",
       "      <td>5375.899857</td>\n",
       "      <td>1.712087</td>\n",
       "      <td>4.580990</td>\n",
       "      <td>3.476850</td>\n",
       "      <td>8.692034</td>\n",
       "    </tr>\n",
       "    <tr>\n",
       "      <th>min</th>\n",
       "      <td>0.000000</td>\n",
       "      <td>0.500000</td>\n",
       "      <td>1996.000000</td>\n",
       "      <td>1.000000</td>\n",
       "      <td>1.000000</td>\n",
       "    </tr>\n",
       "    <tr>\n",
       "      <th>25%</th>\n",
       "      <td>4651.750000</td>\n",
       "      <td>6.000000</td>\n",
       "      <td>2003.000000</td>\n",
       "      <td>4.000000</td>\n",
       "      <td>8.000000</td>\n",
       "    </tr>\n",
       "    <tr>\n",
       "      <th>50%</th>\n",
       "      <td>9298.500000</td>\n",
       "      <td>7.300000</td>\n",
       "      <td>2007.000000</td>\n",
       "      <td>8.000000</td>\n",
       "      <td>16.000000</td>\n",
       "    </tr>\n",
       "    <tr>\n",
       "      <th>75%</th>\n",
       "      <td>13959.250000</td>\n",
       "      <td>8.200000</td>\n",
       "      <td>2010.000000</td>\n",
       "      <td>10.000000</td>\n",
       "      <td>23.000000</td>\n",
       "    </tr>\n",
       "    <tr>\n",
       "      <th>max</th>\n",
       "      <td>18624.000000</td>\n",
       "      <td>10.000000</td>\n",
       "      <td>2016.000000</td>\n",
       "      <td>12.000000</td>\n",
       "      <td>31.000000</td>\n",
       "    </tr>\n",
       "  </tbody>\n",
       "</table>\n",
       "</div>"
      ],
      "text/plain": [
       "            game_id         score  release_year  release_month   release_day\n",
       "count  18588.000000  18588.000000  18588.000000   18588.000000  18588.000000\n",
       "mean    9306.783086      6.950769   2006.510598       7.140198     15.602216\n",
       "std     5375.899857      1.712087      4.580990       3.476850      8.692034\n",
       "min        0.000000      0.500000   1996.000000       1.000000      1.000000\n",
       "25%     4651.750000      6.000000   2003.000000       4.000000      8.000000\n",
       "50%     9298.500000      7.300000   2007.000000       8.000000     16.000000\n",
       "75%    13959.250000      8.200000   2010.000000      10.000000     23.000000\n",
       "max    18624.000000     10.000000   2016.000000      12.000000     31.000000"
      ]
     },
     "execution_count": 3,
     "metadata": {},
     "output_type": "execute_result"
    }
   ],
   "source": [
    "df.describe()"
   ]
  },
  {
   "cell_type": "code",
   "execution_count": 4,
   "metadata": {},
   "outputs": [
    {
     "data": {
      "image/png": "[encoded data removed]",
      "text/plain": [
       "<Figure size 432x288 with 1 Axes>"
      ]
     },
     "metadata": {
      "needs_background": "light"
     },
     "output_type": "display_data"
    }
   ],
   "source": [
    "status_vals = df.release_year.value_counts()  \n",
    "(status_vals/df.shape[0]).plot(kind=\"bar\");\n",
    "plt.title(\"Games Released Per Year Proportions\"); # 10% of games are released in 2008"
   ]
  },
  {
   "cell_type": "code",
   "execution_count": 5,
   "metadata": {},
   "outputs": [
    {
     "data": {
      "text/html": [
       "<div>\n",
       "<style scoped>\n",
       "    .dataframe tbody tr th:only-of-type {\n",
       "        vertical-align: middle;\n",
       "    }\n",
       "\n",
       "    .dataframe tbody tr th {\n",
       "        vertical-align: top;\n",
       "    }\n",
       "\n",
       "    .dataframe thead th {\n",
       "        text-align: right;\n",
       "    }\n",
       "</style>\n",
       "<table border=\"1\" class=\"dataframe\">\n",
       "  <thead>\n",
       "    <tr style=\"text-align: right;\">\n",
       "      <th></th>\n",
       "      <th>game_id</th>\n",
       "      <th>score</th>\n",
       "      <th>release_month</th>\n",
       "      <th>release_day</th>\n",
       "    </tr>\n",
       "    <tr>\n",
       "      <th>release_year</th>\n",
       "      <th></th>\n",
       "      <th></th>\n",
       "      <th></th>\n",
       "      <th></th>\n",
       "    </tr>\n",
       "  </thead>\n",
       "  <tbody>\n",
       "    <tr>\n",
       "      <th>2011</th>\n",
       "      <td>15910.225352</td>\n",
       "      <td>7.050704</td>\n",
       "      <td>6.733333</td>\n",
       "      <td>16.284507</td>\n",
       "    </tr>\n",
       "    <tr>\n",
       "      <th>2001</th>\n",
       "      <td>3256.761628</td>\n",
       "      <td>7.120494</td>\n",
       "      <td>7.135174</td>\n",
       "      <td>15.177326</td>\n",
       "    </tr>\n",
       "    <tr>\n",
       "      <th>2004</th>\n",
       "      <td>6004.649950</td>\n",
       "      <td>7.170712</td>\n",
       "      <td>7.168506</td>\n",
       "      <td>15.025075</td>\n",
       "    </tr>\n",
       "    <tr>\n",
       "      <th>2003</th>\n",
       "      <td>5021.860681</td>\n",
       "      <td>7.198246</td>\n",
       "      <td>7.382869</td>\n",
       "      <td>15.584107</td>\n",
       "    </tr>\n",
       "    <tr>\n",
       "      <th>2005</th>\n",
       "      <td>7047.788603</td>\n",
       "      <td>7.222426</td>\n",
       "      <td>7.459559</td>\n",
       "      <td>15.348346</td>\n",
       "    </tr>\n",
       "    <tr>\n",
       "      <th>2012</th>\n",
       "      <td>8468.371162</td>\n",
       "      <td>7.420961</td>\n",
       "      <td>6.935915</td>\n",
       "      <td>16.608812</td>\n",
       "    </tr>\n",
       "    <tr>\n",
       "      <th>2013</th>\n",
       "      <td>16581.988489</td>\n",
       "      <td>7.459137</td>\n",
       "      <td>7.077698</td>\n",
       "      <td>16.633094</td>\n",
       "    </tr>\n",
       "    <tr>\n",
       "      <th>2014</th>\n",
       "      <td>17763.570093</td>\n",
       "      <td>7.475888</td>\n",
       "      <td>6.435514</td>\n",
       "      <td>15.753271</td>\n",
       "    </tr>\n",
       "    <tr>\n",
       "      <th>2016</th>\n",
       "      <td>18505.225664</td>\n",
       "      <td>7.573451</td>\n",
       "      <td>4.827434</td>\n",
       "      <td>16.787611</td>\n",
       "    </tr>\n",
       "    <tr>\n",
       "      <th>2015</th>\n",
       "      <td>18218.460274</td>\n",
       "      <td>7.659452</td>\n",
       "      <td>6.358904</td>\n",
       "      <td>16.438356</td>\n",
       "    </tr>\n",
       "  </tbody>\n",
       "</table>\n",
       "</div>"
      ],
      "text/plain": [
       "                   game_id     score  release_month  release_day\n",
       "release_year                                                    \n",
       "2011          15910.225352  7.050704       6.733333    16.284507\n",
       "2001           3256.761628  7.120494       7.135174    15.177326\n",
       "2004           6004.649950  7.170712       7.168506    15.025075\n",
       "2003           5021.860681  7.198246       7.382869    15.584107\n",
       "2005           7047.788603  7.222426       7.459559    15.348346\n",
       "2012           8468.371162  7.420961       6.935915    16.608812\n",
       "2013          16581.988489  7.459137       7.077698    16.633094\n",
       "2014          17763.570093  7.475888       6.435514    15.753271\n",
       "2016          18505.225664  7.573451       4.827434    16.787611\n",
       "2015          18218.460274  7.659452       6.358904    16.438356"
      ]
     },
     "execution_count": 5,
     "metadata": {},
     "output_type": "execute_result"
    }
   ],
   "source": [
    "# A look at the mean scores grouped by the release years\n",
    "df.groupby(\"release_year\").mean().sort_values(\"score\")[-10:]"
   ]
  },
  {
   "cell_type": "code",
   "execution_count": 6,
   "metadata": {},
   "outputs": [
    {
     "data": {
      "text/html": [
       "<div>\n",
       "<style scoped>\n",
       "    .dataframe tbody tr th:only-of-type {\n",
       "        vertical-align: middle;\n",
       "    }\n",
       "\n",
       "    .dataframe tbody tr th {\n",
       "        vertical-align: top;\n",
       "    }\n",
       "\n",
       "    .dataframe thead th {\n",
       "        text-align: right;\n",
       "    }\n",
       "</style>\n",
       "<table border=\"1\" class=\"dataframe\">\n",
       "  <thead>\n",
       "    <tr style=\"text-align: right;\">\n",
       "      <th></th>\n",
       "      <th>game_id</th>\n",
       "      <th>score</th>\n",
       "      <th>release_year</th>\n",
       "      <th>release_month</th>\n",
       "      <th>release_day</th>\n",
       "    </tr>\n",
       "    <tr>\n",
       "      <th>genre</th>\n",
       "      <th></th>\n",
       "      <th></th>\n",
       "      <th></th>\n",
       "      <th></th>\n",
       "      <th></th>\n",
       "    </tr>\n",
       "  </thead>\n",
       "  <tbody>\n",
       "    <tr>\n",
       "      <th>Music, RPG</th>\n",
       "      <td>17865.0</td>\n",
       "      <td>8.500</td>\n",
       "      <td>2014.000</td>\n",
       "      <td>9.000</td>\n",
       "      <td>12.00</td>\n",
       "    </tr>\n",
       "    <tr>\n",
       "      <th>Adventure, Platformer</th>\n",
       "      <td>17365.0</td>\n",
       "      <td>8.600</td>\n",
       "      <td>2013.000</td>\n",
       "      <td>11.000</td>\n",
       "      <td>13.00</td>\n",
       "    </tr>\n",
       "    <tr>\n",
       "      <th>Platformer, Adventure</th>\n",
       "      <td>17387.0</td>\n",
       "      <td>8.775</td>\n",
       "      <td>2013.625</td>\n",
       "      <td>5.875</td>\n",
       "      <td>22.25</td>\n",
       "    </tr>\n",
       "    <tr>\n",
       "      <th>Music, Adventure</th>\n",
       "      <td>18190.0</td>\n",
       "      <td>8.800</td>\n",
       "      <td>2015.000</td>\n",
       "      <td>4.000</td>\n",
       "      <td>21.00</td>\n",
       "    </tr>\n",
       "    <tr>\n",
       "      <th>Shooter, First-Person</th>\n",
       "      <td>17611.0</td>\n",
       "      <td>8.900</td>\n",
       "      <td>2014.000</td>\n",
       "      <td>3.000</td>\n",
       "      <td>10.00</td>\n",
       "    </tr>\n",
       "    <tr>\n",
       "      <th>Adventure, Episodic</th>\n",
       "      <td>17065.5</td>\n",
       "      <td>8.900</td>\n",
       "      <td>2013.000</td>\n",
       "      <td>7.000</td>\n",
       "      <td>2.00</td>\n",
       "    </tr>\n",
       "    <tr>\n",
       "      <th>Other, Action</th>\n",
       "      <td>7070.0</td>\n",
       "      <td>9.000</td>\n",
       "      <td>2005.000</td>\n",
       "      <td>9.000</td>\n",
       "      <td>8.00</td>\n",
       "    </tr>\n",
       "    <tr>\n",
       "      <th>Puzzle, RPG</th>\n",
       "      <td>17349.0</td>\n",
       "      <td>9.100</td>\n",
       "      <td>2013.000</td>\n",
       "      <td>10.000</td>\n",
       "      <td>11.00</td>\n",
       "    </tr>\n",
       "    <tr>\n",
       "      <th>Hardware</th>\n",
       "      <td>18511.5</td>\n",
       "      <td>9.150</td>\n",
       "      <td>2016.000</td>\n",
       "      <td>3.500</td>\n",
       "      <td>19.00</td>\n",
       "    </tr>\n",
       "    <tr>\n",
       "      <th>Compilation, Compilation</th>\n",
       "      <td>9921.0</td>\n",
       "      <td>9.500</td>\n",
       "      <td>2007.000</td>\n",
       "      <td>10.000</td>\n",
       "      <td>9.00</td>\n",
       "    </tr>\n",
       "  </tbody>\n",
       "</table>\n",
       "</div>"
      ],
      "text/plain": [
       "                          game_id  score  release_year  release_month  \\\n",
       "genre                                                                   \n",
       "Music, RPG                17865.0  8.500      2014.000          9.000   \n",
       "Adventure, Platformer     17365.0  8.600      2013.000         11.000   \n",
       "Platformer, Adventure     17387.0  8.775      2013.625          5.875   \n",
       "Music, Adventure          18190.0  8.800      2015.000          4.000   \n",
       "Shooter, First-Person     17611.0  8.900      2014.000          3.000   \n",
       "Adventure, Episodic       17065.5  8.900      2013.000          7.000   \n",
       "Other, Action              7070.0  9.000      2005.000          9.000   \n",
       "Puzzle, RPG               17349.0  9.100      2013.000         10.000   \n",
       "Hardware                  18511.5  9.150      2016.000          3.500   \n",
       "Compilation, Compilation   9921.0  9.500      2007.000         10.000   \n",
       "\n",
       "                          release_day  \n",
       "genre                                  \n",
       "Music, RPG                      12.00  \n",
       "Adventure, Platformer           13.00  \n",
       "Platformer, Adventure           22.25  \n",
       "Music, Adventure                21.00  \n",
       "Shooter, First-Person           10.00  \n",
       "Adventure, Episodic              2.00  \n",
       "Other, Action                    8.00  \n",
       "Puzzle, RPG                     11.00  \n",
       "Hardware                        19.00  \n",
       "Compilation, Compilation         9.00  "
      ]
     },
     "execution_count": 6,
     "metadata": {},
     "output_type": "execute_result"
    }
   ],
   "source": [
    "# A look at the mean scores grouped by game genres\n",
    "df.groupby(\"genre\").mean().sort_values(\"score\")[-10:]"
   ]
  },
  {
   "cell_type": "markdown",
   "metadata": {},
   "source": [
    "### Some genres are duplicated. For example there is \"Hunting\", \"Hunting, Action\", and \"Action\". I fix that below."
   ]
  },
  {
   "cell_type": "code",
   "execution_count": 23,
   "metadata": {},
   "outputs": [
    {
     "name": "stdout",
     "output_type": "stream",
     "text": [
      "Dataset Shape: (20116, 9)\n"
     ]
    }
   ],
   "source": [
    "new_df = pd.DataFrame(df.genre.str.split(', ').tolist(), index=[df.game_id, df.title, df.platform, df.score,\n",
    "                                                                  df.editors_choice, df.release_year, \n",
    "                                                                  df.release_month, df.release_day]).stack()\n",
    "new_df = new_df.reset_index([0, 'game_id', 'title', 'editors_choice', 'score', \n",
    "                             'release_year', 'release_month', 'release_day', 'platform'])\n",
    "new_df = new_df.rename(columns={0: 'genre'})\n",
    "\n",
    "df = new_df\n",
    "print(\"Dataset Shape: {}\".format(df.shape))"
   ]
  },
  {
   "cell_type": "code",
   "execution_count": 8,
   "metadata": {},
   "outputs": [
    {
     "data": {
      "text/html": [
       "<div>\n",
       "<style scoped>\n",
       "    .dataframe tbody tr th:only-of-type {\n",
       "        vertical-align: middle;\n",
       "    }\n",
       "\n",
       "    .dataframe tbody tr th {\n",
       "        vertical-align: top;\n",
       "    }\n",
       "\n",
       "    .dataframe thead th {\n",
       "        text-align: right;\n",
       "    }\n",
       "</style>\n",
       "<table border=\"1\" class=\"dataframe\">\n",
       "  <thead>\n",
       "    <tr style=\"text-align: right;\">\n",
       "      <th></th>\n",
       "      <th>game_id</th>\n",
       "      <th>score</th>\n",
       "      <th>release_year</th>\n",
       "      <th>release_month</th>\n",
       "      <th>release_day</th>\n",
       "    </tr>\n",
       "    <tr>\n",
       "      <th>genre</th>\n",
       "      <th></th>\n",
       "      <th></th>\n",
       "      <th></th>\n",
       "      <th></th>\n",
       "      <th></th>\n",
       "    </tr>\n",
       "  </thead>\n",
       "  <tbody>\n",
       "    <tr>\n",
       "      <th>Adventure</th>\n",
       "      <td>10543.337426</td>\n",
       "      <td>7.078978</td>\n",
       "      <td>2007.901768</td>\n",
       "      <td>7.144401</td>\n",
       "      <td>15.581532</td>\n",
       "    </tr>\n",
       "    <tr>\n",
       "      <th>Puzzle</th>\n",
       "      <td>10249.803002</td>\n",
       "      <td>7.090994</td>\n",
       "      <td>2007.294559</td>\n",
       "      <td>6.920263</td>\n",
       "      <td>15.240150</td>\n",
       "    </tr>\n",
       "    <tr>\n",
       "      <th>Shooter</th>\n",
       "      <td>10549.714373</td>\n",
       "      <td>7.143484</td>\n",
       "      <td>2007.775274</td>\n",
       "      <td>7.078563</td>\n",
       "      <td>15.373934</td>\n",
       "    </tr>\n",
       "    <tr>\n",
       "      <th>Platformer</th>\n",
       "      <td>9795.742353</td>\n",
       "      <td>7.218824</td>\n",
       "      <td>2006.895294</td>\n",
       "      <td>7.242353</td>\n",
       "      <td>15.212941</td>\n",
       "    </tr>\n",
       "    <tr>\n",
       "      <th>Strategy</th>\n",
       "      <td>8858.013901</td>\n",
       "      <td>7.287576</td>\n",
       "      <td>2006.063423</td>\n",
       "      <td>6.801911</td>\n",
       "      <td>15.388358</td>\n",
       "    </tr>\n",
       "    <tr>\n",
       "      <th>Editor</th>\n",
       "      <td>5944.153846</td>\n",
       "      <td>7.353846</td>\n",
       "      <td>2003.769231</td>\n",
       "      <td>6.230769</td>\n",
       "      <td>16.846154</td>\n",
       "    </tr>\n",
       "    <tr>\n",
       "      <th>RPG</th>\n",
       "      <td>10595.866158</td>\n",
       "      <td>7.566782</td>\n",
       "      <td>2007.879334</td>\n",
       "      <td>6.797503</td>\n",
       "      <td>15.890430</td>\n",
       "    </tr>\n",
       "    <tr>\n",
       "      <th>Episodic</th>\n",
       "      <td>17065.500000</td>\n",
       "      <td>8.900000</td>\n",
       "      <td>2013.000000</td>\n",
       "      <td>7.000000</td>\n",
       "      <td>2.000000</td>\n",
       "    </tr>\n",
       "    <tr>\n",
       "      <th>First-Person</th>\n",
       "      <td>17611.000000</td>\n",
       "      <td>8.900000</td>\n",
       "      <td>2014.000000</td>\n",
       "      <td>3.000000</td>\n",
       "      <td>10.000000</td>\n",
       "    </tr>\n",
       "    <tr>\n",
       "      <th>Hardware</th>\n",
       "      <td>18511.500000</td>\n",
       "      <td>9.150000</td>\n",
       "      <td>2016.000000</td>\n",
       "      <td>3.500000</td>\n",
       "      <td>19.000000</td>\n",
       "    </tr>\n",
       "  </tbody>\n",
       "</table>\n",
       "</div>"
      ],
      "text/plain": [
       "                   game_id     score  release_year  release_month  release_day\n",
       "genre                                                                         \n",
       "Adventure     10543.337426  7.078978   2007.901768       7.144401    15.581532\n",
       "Puzzle        10249.803002  7.090994   2007.294559       6.920263    15.240150\n",
       "Shooter       10549.714373  7.143484   2007.775274       7.078563    15.373934\n",
       "Platformer     9795.742353  7.218824   2006.895294       7.242353    15.212941\n",
       "Strategy       8858.013901  7.287576   2006.063423       6.801911    15.388358\n",
       "Editor         5944.153846  7.353846   2003.769231       6.230769    16.846154\n",
       "RPG           10595.866158  7.566782   2007.879334       6.797503    15.890430\n",
       "Episodic      17065.500000  8.900000   2013.000000       7.000000     2.000000\n",
       "First-Person  17611.000000  8.900000   2014.000000       3.000000    10.000000\n",
       "Hardware      18511.500000  9.150000   2016.000000       3.500000    19.000000"
      ]
     },
     "execution_count": 8,
     "metadata": {},
     "output_type": "execute_result"
    }
   ],
   "source": [
    "df.groupby(\"genre\").mean().sort_values(\"score\")[-10:]"
   ]
  },
  {
   "cell_type": "code",
   "execution_count": 9,
   "metadata": {},
   "outputs": [],
   "source": [
    "# It can be noticed that there is a \"Hardware\" genre, upon further inspection, it seems that IGN allows users to\n",
    "# rate gaming harware like the \"HTC Vive\" etc. Similary, there are \"Editor\" entries for editing software.\n",
    "# I am dropping those entries\n",
    "df = df[df.genre != 'Hardware']\n",
    "df = df[df.genre != 'Editor']"
   ]
  },
  {
   "cell_type": "code",
   "execution_count": 24,
   "metadata": {},
   "outputs": [
    {
     "data": {
      "text/html": [
       "<div>\n",
       "<style scoped>\n",
       "    .dataframe tbody tr th:only-of-type {\n",
       "        vertical-align: middle;\n",
       "    }\n",
       "\n",
       "    .dataframe tbody tr th {\n",
       "        vertical-align: top;\n",
       "    }\n",
       "\n",
       "    .dataframe thead th {\n",
       "        text-align: right;\n",
       "    }\n",
       "</style>\n",
       "<table border=\"1\" class=\"dataframe\">\n",
       "  <thead>\n",
       "    <tr style=\"text-align: right;\">\n",
       "      <th></th>\n",
       "      <th>game_id</th>\n",
       "      <th>score</th>\n",
       "      <th>release_year</th>\n",
       "      <th>release_month</th>\n",
       "      <th>release_day</th>\n",
       "    </tr>\n",
       "    <tr>\n",
       "      <th>genre</th>\n",
       "      <th></th>\n",
       "      <th></th>\n",
       "      <th></th>\n",
       "      <th></th>\n",
       "      <th></th>\n",
       "    </tr>\n",
       "  </thead>\n",
       "  <tbody>\n",
       "    <tr>\n",
       "      <th>Music</th>\n",
       "      <td>11543.954654</td>\n",
       "      <td>6.976850</td>\n",
       "      <td>2008.147971</td>\n",
       "      <td>8.035800</td>\n",
       "      <td>14.940334</td>\n",
       "    </tr>\n",
       "    <tr>\n",
       "      <th>Fighting</th>\n",
       "      <td>8647.420968</td>\n",
       "      <td>7.006452</td>\n",
       "      <td>2006.004839</td>\n",
       "      <td>7.343548</td>\n",
       "      <td>15.737097</td>\n",
       "    </tr>\n",
       "    <tr>\n",
       "      <th>Sports</th>\n",
       "      <td>7752.960489</td>\n",
       "      <td>7.045579</td>\n",
       "      <td>2005.067733</td>\n",
       "      <td>7.272813</td>\n",
       "      <td>15.738946</td>\n",
       "    </tr>\n",
       "    <tr>\n",
       "      <th>Adventure</th>\n",
       "      <td>10543.398195</td>\n",
       "      <td>7.070612</td>\n",
       "      <td>2007.878134</td>\n",
       "      <td>7.136409</td>\n",
       "      <td>15.612337</td>\n",
       "    </tr>\n",
       "    <tr>\n",
       "      <th>Wrestling</th>\n",
       "      <td>7655.285714</td>\n",
       "      <td>7.084962</td>\n",
       "      <td>2004.849624</td>\n",
       "      <td>8.503759</td>\n",
       "      <td>15.285714</td>\n",
       "    </tr>\n",
       "    <tr>\n",
       "      <th>Puzzle</th>\n",
       "      <td>10420.611332</td>\n",
       "      <td>7.086183</td>\n",
       "      <td>2007.416501</td>\n",
       "      <td>6.904573</td>\n",
       "      <td>15.284294</td>\n",
       "    </tr>\n",
       "    <tr>\n",
       "      <th>Shooter</th>\n",
       "      <td>10595.331861</td>\n",
       "      <td>7.138864</td>\n",
       "      <td>2007.808202</td>\n",
       "      <td>7.092744</td>\n",
       "      <td>15.370978</td>\n",
       "    </tr>\n",
       "    <tr>\n",
       "      <th>Platformer</th>\n",
       "      <td>9870.212579</td>\n",
       "      <td>7.253208</td>\n",
       "      <td>2006.969811</td>\n",
       "      <td>7.254088</td>\n",
       "      <td>15.315723</td>\n",
       "    </tr>\n",
       "    <tr>\n",
       "      <th>Strategy</th>\n",
       "      <td>8898.936437</td>\n",
       "      <td>7.270815</td>\n",
       "      <td>2006.064458</td>\n",
       "      <td>6.821844</td>\n",
       "      <td>15.465533</td>\n",
       "    </tr>\n",
       "    <tr>\n",
       "      <th>RPG</th>\n",
       "      <td>10645.483250</td>\n",
       "      <td>7.564220</td>\n",
       "      <td>2007.931575</td>\n",
       "      <td>6.847470</td>\n",
       "      <td>15.960798</td>\n",
       "    </tr>\n",
       "  </tbody>\n",
       "</table>\n",
       "</div>"
      ],
      "text/plain": [
       "                 game_id     score  release_year  release_month  release_day\n",
       "genre                                                                       \n",
       "Music       11543.954654  6.976850   2008.147971       8.035800    14.940334\n",
       "Fighting     8647.420968  7.006452   2006.004839       7.343548    15.737097\n",
       "Sports       7752.960489  7.045579   2005.067733       7.272813    15.738946\n",
       "Adventure   10543.398195  7.070612   2007.878134       7.136409    15.612337\n",
       "Wrestling    7655.285714  7.084962   2004.849624       8.503759    15.285714\n",
       "Puzzle      10420.611332  7.086183   2007.416501       6.904573    15.284294\n",
       "Shooter     10595.331861  7.138864   2007.808202       7.092744    15.370978\n",
       "Platformer   9870.212579  7.253208   2006.969811       7.254088    15.315723\n",
       "Strategy     8898.936437  7.270815   2006.064458       6.821844    15.465533\n",
       "RPG         10645.483250  7.564220   2007.931575       6.847470    15.960798"
      ]
     },
     "execution_count": 24,
     "metadata": {},
     "output_type": "execute_result"
    }
   ],
   "source": [
    "df.groupby(\"genre\").mean().sort_values(\"score\")[-10:]"
   ]
  },
  {
   "cell_type": "markdown",
   "metadata": {},
   "source": [
    "### Now let us take a look at general correlations"
   ]
  },
  {
   "cell_type": "code",
   "execution_count": 12,
   "metadata": {},
   "outputs": [
    {
     "data": {
      "image/png": "[encoded data removed]",
      "text/plain": [
       "<Figure size 432x288 with 2 Axes>"
      ]
     },
     "metadata": {
      "needs_background": "light"
     },
     "output_type": "display_data"
    }
   ],
   "source": [
    "sns.heatmap(df.corr(), annot=True, fmt=\".2f\"); # Note that this does not include categorical data\n",
    "\n",
    "# We can see a slight correlation between release dates and the score. This we will invistigate more."
   ]
  },
  {
   "cell_type": "markdown",
   "metadata": {},
   "source": [
    "### Let us now build the model, and take care of categorical data by adding dummy columns"
   ]
  },
  {
   "cell_type": "code",
   "execution_count": 13,
   "metadata": {},
   "outputs": [],
   "source": [
    "# The functions can be found in the file helpers.py\n",
    "X, y = clean_data(df)\n",
    "\n",
    "test_score, train_score, lm_model, X_train, X_test, y_train, y_test = build_linear_mod(X, y)"
   ]
  },
  {
   "cell_type": "code",
   "execution_count": 14,
   "metadata": {},
   "outputs": [
    {
     "data": {
      "text/html": [
       "<div>\n",
       "<style scoped>\n",
       "    .dataframe tbody tr th:only-of-type {\n",
       "        vertical-align: middle;\n",
       "    }\n",
       "\n",
       "    .dataframe tbody tr th {\n",
       "        vertical-align: top;\n",
       "    }\n",
       "\n",
       "    .dataframe thead th {\n",
       "        text-align: right;\n",
       "    }\n",
       "</style>\n",
       "<table border=\"1\" class=\"dataframe\">\n",
       "  <thead>\n",
       "    <tr style=\"text-align: right;\">\n",
       "      <th></th>\n",
       "      <th>Feature</th>\n",
       "      <th>Coefficient</th>\n",
       "      <th>Abs_Coefficient</th>\n",
       "    </tr>\n",
       "  </thead>\n",
       "  <tbody>\n",
       "    <tr>\n",
       "      <th>42</th>\n",
       "      <td>platform_DVD / HD Video Game</td>\n",
       "      <td>-2.893926</td>\n",
       "      <td>2.893926</td>\n",
       "    </tr>\n",
       "    <tr>\n",
       "      <th>3</th>\n",
       "      <td>editors_choice_Y</td>\n",
       "      <td>1.142476</td>\n",
       "      <td>1.142476</td>\n",
       "    </tr>\n",
       "    <tr>\n",
       "      <th>11</th>\n",
       "      <td>genre_Casino</td>\n",
       "      <td>-1.048042</td>\n",
       "      <td>1.048042</td>\n",
       "    </tr>\n",
       "    <tr>\n",
       "      <th>48</th>\n",
       "      <td>platform_Game.Com</td>\n",
       "      <td>-0.967768</td>\n",
       "      <td>0.967768</td>\n",
       "    </tr>\n",
       "    <tr>\n",
       "      <th>14</th>\n",
       "      <td>genre_Episodic</td>\n",
       "      <td>0.966811</td>\n",
       "      <td>0.966811</td>\n",
       "    </tr>\n",
       "    <tr>\n",
       "      <th>18</th>\n",
       "      <td>genre_Golf</td>\n",
       "      <td>-0.824407</td>\n",
       "      <td>0.824407</td>\n",
       "    </tr>\n",
       "    <tr>\n",
       "      <th>75</th>\n",
       "      <td>platform_Sega 32X</td>\n",
       "      <td>-0.798555</td>\n",
       "      <td>0.798555</td>\n",
       "    </tr>\n",
       "    <tr>\n",
       "      <th>5</th>\n",
       "      <td>genre_Adult</td>\n",
       "      <td>-0.662795</td>\n",
       "      <td>0.662795</td>\n",
       "    </tr>\n",
       "    <tr>\n",
       "      <th>40</th>\n",
       "      <td>platform_Atari 5200</td>\n",
       "      <td>0.657323</td>\n",
       "      <td>0.657323</td>\n",
       "    </tr>\n",
       "    <tr>\n",
       "      <th>21</th>\n",
       "      <td>genre_Other</td>\n",
       "      <td>-0.650675</td>\n",
       "      <td>0.650675</td>\n",
       "    </tr>\n",
       "    <tr>\n",
       "      <th>82</th>\n",
       "      <td>platform_Web Games</td>\n",
       "      <td>0.579400</td>\n",
       "      <td>0.579400</td>\n",
       "    </tr>\n",
       "    <tr>\n",
       "      <th>19</th>\n",
       "      <td>genre_Hunting</td>\n",
       "      <td>-0.574963</td>\n",
       "      <td>0.574963</td>\n",
       "    </tr>\n",
       "    <tr>\n",
       "      <th>65</th>\n",
       "      <td>platform_Ouya</td>\n",
       "      <td>0.568917</td>\n",
       "      <td>0.568917</td>\n",
       "    </tr>\n",
       "    <tr>\n",
       "      <th>51</th>\n",
       "      <td>platform_Linux</td>\n",
       "      <td>0.560887</td>\n",
       "      <td>0.560887</td>\n",
       "    </tr>\n",
       "    <tr>\n",
       "      <th>77</th>\n",
       "      <td>platform_SteamOS</td>\n",
       "      <td>0.539581</td>\n",
       "      <td>0.539581</td>\n",
       "    </tr>\n",
       "    <tr>\n",
       "      <th>22</th>\n",
       "      <td>genre_Party</td>\n",
       "      <td>-0.478011</td>\n",
       "      <td>0.478011</td>\n",
       "    </tr>\n",
       "    <tr>\n",
       "      <th>59</th>\n",
       "      <td>platform_New Nintendo 3DS</td>\n",
       "      <td>0.433248</td>\n",
       "      <td>0.433248</td>\n",
       "    </tr>\n",
       "    <tr>\n",
       "      <th>16</th>\n",
       "      <td>genre_First-Person</td>\n",
       "      <td>0.412751</td>\n",
       "      <td>0.412751</td>\n",
       "    </tr>\n",
       "    <tr>\n",
       "      <th>80</th>\n",
       "      <td>platform_TurboGrafx-CD</td>\n",
       "      <td>0.402421</td>\n",
       "      <td>0.402421</td>\n",
       "    </tr>\n",
       "    <tr>\n",
       "      <th>45</th>\n",
       "      <td>platform_Game Boy</td>\n",
       "      <td>0.400869</td>\n",
       "      <td>0.400869</td>\n",
       "    </tr>\n",
       "  </tbody>\n",
       "</table>\n",
       "</div>"
      ],
      "text/plain": [
       "                         Feature  Coefficient  Abs_Coefficient\n",
       "42  platform_DVD / HD Video Game    -2.893926         2.893926\n",
       "3               editors_choice_Y     1.142476         1.142476\n",
       "11                  genre_Casino    -1.048042         1.048042\n",
       "48             platform_Game.Com    -0.967768         0.967768\n",
       "14                genre_Episodic     0.966811         0.966811\n",
       "18                    genre_Golf    -0.824407         0.824407\n",
       "75             platform_Sega 32X    -0.798555         0.798555\n",
       "5                    genre_Adult    -0.662795         0.662795\n",
       "40           platform_Atari 5200     0.657323         0.657323\n",
       "21                   genre_Other    -0.650675         0.650675\n",
       "82            platform_Web Games     0.579400         0.579400\n",
       "19                 genre_Hunting    -0.574963         0.574963\n",
       "65                 platform_Ouya     0.568917         0.568917\n",
       "51                platform_Linux     0.560887         0.560887\n",
       "77              platform_SteamOS     0.539581         0.539581\n",
       "22                   genre_Party    -0.478011         0.478011\n",
       "59     platform_New Nintendo 3DS     0.433248         0.433248\n",
       "16            genre_First-Person     0.412751         0.412751\n",
       "80        platform_TurboGrafx-CD     0.402421         0.402421\n",
       "45             platform_Game Boy     0.400869         0.400869"
      ]
     },
     "execution_count": 14,
     "metadata": {},
     "output_type": "execute_result"
    }
   ],
   "source": [
    "coef_df = coef_weights(lm_model, X_train)\n",
    "\n",
    "# A quick look at the top results\n",
    "coef_df.head(20)  "
   ]
  },
  {
   "cell_type": "markdown",
   "metadata": {},
   "source": [
    "### It can be seen that some old consoles have the strongest coefficients. That led me to believe there were less games in the dataset for these consoles, which also happen to be given a high score."
   ]
  },
  {
   "cell_type": "code",
   "execution_count": 15,
   "metadata": {
    "scrolled": true
   },
   "outputs": [
    {
     "data": {
      "text/plain": [
       "PC                      3776\n",
       "PlayStation 2           2041\n",
       "Xbox 360                1887\n",
       "PlayStation 3           1567\n",
       "Wii                     1559\n",
       "Nintendo DS             1185\n",
       "PlayStation             1012\n",
       "Xbox                     984\n",
       "Wireless                 960\n",
       "iPhone                   920\n",
       "PlayStation Portable     749\n",
       "Game Boy Advance         717\n",
       "GameCube                 632\n",
       "Game Boy Color           374\n",
       "Nintendo 64              326\n",
       "PlayStation 4            319\n",
       "Dreamcast                317\n",
       "Nintendo DSi             274\n",
       "Nintendo 3DS             257\n",
       "Xbox One                 249\n",
       "PlayStation Vita         183\n",
       "Wii U                    136\n",
       "iPad                     110\n",
       "Macintosh                 91\n",
       "Lynx                      88\n",
       "Genesis                   61\n",
       "NES                       50\n",
       "TurboGrafx-16             46\n",
       "Android                   43\n",
       "Super NES                 38\n",
       "N-Gage                    37\n",
       "NeoGeo Pocket Color       33\n",
       "Game Boy                  23\n",
       "iPod                      18\n",
       "Sega 32X                  16\n",
       "Windows Phone             14\n",
       "Master System             13\n",
       "Arcade                    12\n",
       "Linux                     11\n",
       "NeoGeo                    10\n",
       "Nintendo 64DD              7\n",
       "Saturn                     6\n",
       "Commodore 64/128           6\n",
       "Atari 2600                 5\n",
       "WonderSwan                 4\n",
       "Game.Com                   4\n",
       "TurboGrafx-CD              3\n",
       "Web Games                  2\n",
       "Atari 5200                 2\n",
       "Vectrex                    2\n",
       "New Nintendo 3DS           2\n",
       "WonderSwan Color           1\n",
       "Sega CD                    1\n",
       "Windows Surface            1\n",
       "Dreamcast VMU              1\n",
       "Ouya                       1\n",
       "SteamOS                    1\n",
       "DVD / HD Video Game        1\n",
       "Pocket PC                  1\n",
       "Name: platform, dtype: int64"
      ]
     },
     "execution_count": 15,
     "metadata": {},
     "output_type": "execute_result"
    }
   ],
   "source": [
    "df.platform.value_counts()  # This confirmed my observation"
   ]
  },
  {
   "cell_type": "code",
   "execution_count": 16,
   "metadata": {},
   "outputs": [
    {
     "data": {
      "text/plain": [
       "(20116, 9)"
      ]
     },
     "execution_count": 16,
     "metadata": {},
     "output_type": "execute_result"
    }
   ],
   "source": [
    "# I decided to therefore delete genres and platforms with less than 100 entries\n",
    "vc = df.platform.value_counts()\n",
    "platforms = vc[vc > 100].index.to_list()\n",
    "df = df[df.platform.isin(platforms)]\n",
    "\n",
    "vc = df.genre.value_counts()\n",
    "genres = vc[vc > 100].index.to_list()\n",
    "df = df[df.genre.isin(genres)]\n",
    "\n",
    "\n",
    "df.shape"
   ]
  },
  {
   "cell_type": "code",
   "execution_count": 17,
   "metadata": {},
   "outputs": [
    {
     "data": {
      "text/html": [
       "<div>\n",
       "<style scoped>\n",
       "    .dataframe tbody tr th:only-of-type {\n",
       "        vertical-align: middle;\n",
       "    }\n",
       "\n",
       "    .dataframe tbody tr th {\n",
       "        vertical-align: top;\n",
       "    }\n",
       "\n",
       "    .dataframe thead th {\n",
       "        text-align: right;\n",
       "    }\n",
       "</style>\n",
       "<table border=\"1\" class=\"dataframe\">\n",
       "  <thead>\n",
       "    <tr style=\"text-align: right;\">\n",
       "      <th></th>\n",
       "      <th>Feature</th>\n",
       "      <th>Coefficient</th>\n",
       "      <th>Abs_Coefficient</th>\n",
       "    </tr>\n",
       "  </thead>\n",
       "  <tbody>\n",
       "    <tr>\n",
       "      <th>3</th>\n",
       "      <td>editors_choice_Y</td>\n",
       "      <td>1.148457</td>\n",
       "      <td>1.148457</td>\n",
       "    </tr>\n",
       "    <tr>\n",
       "      <th>11</th>\n",
       "      <td>genre_Hunting</td>\n",
       "      <td>-0.554448</td>\n",
       "      <td>0.554448</td>\n",
       "    </tr>\n",
       "    <tr>\n",
       "      <th>13</th>\n",
       "      <td>genre_Party</td>\n",
       "      <td>-0.441664</td>\n",
       "      <td>0.441664</td>\n",
       "    </tr>\n",
       "    <tr>\n",
       "      <th>39</th>\n",
       "      <td>platform_Wii</td>\n",
       "      <td>-0.308734</td>\n",
       "      <td>0.308734</td>\n",
       "    </tr>\n",
       "    <tr>\n",
       "      <th>40</th>\n",
       "      <td>platform_Wii U</td>\n",
       "      <td>0.302965</td>\n",
       "      <td>0.302965</td>\n",
       "    </tr>\n",
       "    <tr>\n",
       "      <th>24</th>\n",
       "      <td>platform_Dreamcast</td>\n",
       "      <td>0.292063</td>\n",
       "      <td>0.292063</td>\n",
       "    </tr>\n",
       "    <tr>\n",
       "      <th>36</th>\n",
       "      <td>platform_PlayStation 4</td>\n",
       "      <td>0.289670</td>\n",
       "      <td>0.289670</td>\n",
       "    </tr>\n",
       "    <tr>\n",
       "      <th>44</th>\n",
       "      <td>platform_Xbox One</td>\n",
       "      <td>0.279770</td>\n",
       "      <td>0.279770</td>\n",
       "    </tr>\n",
       "    <tr>\n",
       "      <th>30</th>\n",
       "      <td>platform_Nintendo DS</td>\n",
       "      <td>-0.267420</td>\n",
       "      <td>0.267420</td>\n",
       "    </tr>\n",
       "    <tr>\n",
       "      <th>22</th>\n",
       "      <td>genre_Trivia</td>\n",
       "      <td>-0.257263</td>\n",
       "      <td>0.257263</td>\n",
       "    </tr>\n",
       "  </tbody>\n",
       "</table>\n",
       "</div>"
      ],
      "text/plain": [
       "                   Feature  Coefficient  Abs_Coefficient\n",
       "3         editors_choice_Y     1.148457         1.148457\n",
       "11           genre_Hunting    -0.554448         0.554448\n",
       "13             genre_Party    -0.441664         0.441664\n",
       "39            platform_Wii    -0.308734         0.308734\n",
       "40          platform_Wii U     0.302965         0.302965\n",
       "24      platform_Dreamcast     0.292063         0.292063\n",
       "36  platform_PlayStation 4     0.289670         0.289670\n",
       "44       platform_Xbox One     0.279770         0.279770\n",
       "30    platform_Nintendo DS    -0.267420         0.267420\n",
       "22            genre_Trivia    -0.257263         0.257263"
      ]
     },
     "execution_count": 17,
     "metadata": {},
     "output_type": "execute_result"
    }
   ],
   "source": [
    "X, y = clean_data(df)\n",
    "\n",
    "test_score, train_score, lm_model, X_train, X_test, y_train, y_test = build_linear_mod(X, y)\n",
    "coef_df = coef_weights(lm_model, X_train)\n",
    "\n",
    "coef_df[:10] # Biggest indicator is the editor's choice, which makes lots of sense"
   ]
  },
  {
   "cell_type": "markdown",
   "metadata": {},
   "source": [
    "# Now let us attempt to answer our busniess questions"
   ]
  },
  {
   "cell_type": "markdown",
   "metadata": {},
   "source": [
    "## 1. What are the main factors affecting a game's score?"
   ]
  },
  {
   "cell_type": "code",
   "execution_count": 18,
   "metadata": {
    "scrolled": true
   },
   "outputs": [
    {
     "data": {
      "image/png": "[encoded data removed]",
      "text/plain": [
       "<Figure size 720x360 with 1 Axes>"
      ]
     },
     "metadata": {
      "needs_background": "light"
     },
     "output_type": "display_data"
    }
   ],
   "source": [
    "q1_df = coef_df.set_index('Feature')\n",
    "q1_df.drop('Abs_Coefficient', axis=1).sort_values(\n",
    "    'Coefficient', ascending=False).head(11).plot(kind='barh', figsize=(10,5));"
   ]
  },
  {
   "cell_type": "code",
   "execution_count": 19,
   "metadata": {},
   "outputs": [
    {
     "data": {
      "image/png": "[encoded data removed]",
      "text/plain": [
       "<Figure size 504x504 with 1 Axes>"
      ]
     },
     "metadata": {
      "needs_background": "light"
     },
     "output_type": "display_data"
    }
   ],
   "source": [
    "q2_df = coef_df.set_index('Feature')\n",
    "q2_df.drop('Abs_Coefficient', axis=1).sort_values(\n",
    "    'Coefficient', ascending=True).head(20).plot(kind='barh', figsize=(7,7));"
   ]
  },
  {
   "cell_type": "code",
   "execution_count": 20,
   "metadata": {},
   "outputs": [
    {
     "data": {
      "image/png": "[encoded data removed]",
      "text/plain": [
       "<Figure size 432x288 with 1 Axes>"
      ]
     },
     "metadata": {
      "needs_background": "light"
     },
     "output_type": "display_data"
    }
   ],
   "source": [
    "df.groupby('release_year').mean().score.plot(kind='bar');"
   ]
  },
  {
   "cell_type": "markdown",
   "metadata": {},
   "source": [
    "From the above plots, it can be seen that the Editor's choice is the strongest indicator of a high score game. While the genre of Party and Hunting seem to be usually rated a lot lower than other genres. The RPG genre (a personal favourite of mine!) has the biggest positive impact on a game's score. "
   ]
  },
  {
   "cell_type": "markdown",
   "metadata": {},
   "source": [
    "## 2. Do game release dates affect how a game is received?"
   ]
  },
  {
   "cell_type": "markdown",
   "metadata": {},
   "source": [
    "Turns out that is not the case. From the above graph, we can see that release_month and release_day have relatively weights, and therefore do not have a significant impact on a game's score. However, the dataset used for this report did not include game sales, and I suspect it has a lot to do with game sales!"
   ]
  },
  {
   "cell_type": "markdown",
   "metadata": {},
   "source": [
    "## 3.Are certain game genres more likely to be scored higher?"
   ]
  },
  {
   "cell_type": "code",
   "execution_count": 1,
   "metadata": {},
   "outputs": [
    {
     "ename": "SyntaxError",
     "evalue": "invalid syntax (<ipython-input-1-3f32e8480dc5>, line 1)",
     "output_type": "error",
     "traceback": [
      "\u001b[1;36m  File \u001b[1;32m\"<ipython-input-1-3f32e8480dc5>\"\u001b[1;36m, line \u001b[1;32m1\u001b[0m\n\u001b[1;33m    (df.genre.value_counts())/df.shape[0]).plot(kind='bar');\u001b[0m\n\u001b[1;37m                                         ^\u001b[0m\n\u001b[1;31mSyntaxError\u001b[0m\u001b[1;31m:\u001b[0m invalid syntax\n"
     ]
    }
   ],
   "source": [
    "(df.genre.value_counts())/df.shape[0]).plot(kind='bar');"
   ]
  },
  {
   "cell_type": "code",
   "execution_count": 22,
   "metadata": {
    "scrolled": true
   },
   "outputs": [
    {
     "data": {
      "image/png": "[encoded data removed]",
      "text/plain": [
       "<Figure size 432x288 with 1 Axes>"
      ]
     },
     "metadata": {
      "needs_background": "light"
     },
     "output_type": "display_data"
    }
   ],
   "source": [
    "df.groupby('genre').mean().score.plot(kind='bar');"
   ]
  },
  {
   "cell_type": "markdown",
   "metadata": {},
   "source": [
    "RPG, Strategy, and Platformers tend to be scored higher than the rest of the genres. With Trivia, Hunting, and Party at the bottom of the spectrum. A big portion of releases falls under the Action genre, which makes it a highly competitive one."
   ]
  },
  {
   "cell_type": "markdown",
   "metadata": {},
   "source": [
    "## 4. Do certain platforms have generally higher scores?"
   ]
  },
  {
   "cell_type": "code",
   "execution_count": 25,
   "metadata": {},
   "outputs": [
    {
     "data": {
      "image/png": "[encoded data removed]",
      "text/plain": [
       "<Figure size 432x288 with 1 Axes>"
      ]
     },
     "metadata": {
      "needs_background": "light"
     },
     "output_type": "display_data"
    }
   ],
   "source": [
    "df.groupby('platform').mean().score.plot(kind='bar');"
   ]
  },
  {
   "cell_type": "markdown",
   "metadata": {},
   "source": [
    "Newer standalone consoles tend to do better than PC. Interestingly, this applies to most consoles with the exception of the Wii. The nature of gameplay when it comes to the Wii is more interactive and quite different from other consoles. This results in the type of games being different as well, than those offered on a Playstation, Xbox, or PC."
   ]
  },
  {
   "cell_type": "markdown",
   "metadata": {},
   "source": [
    "## 5. Which games tend to succeed on certain consoles?"
   ]
  },
  {
   "cell_type": "code",
   "execution_count": 70,
   "metadata": {},
   "outputs": [
    {
     "data": {
      "text/plain": [
       "<matplotlib.axes._subplots.AxesSubplot at 0x1fcf3e94160>"
      ]
     },
     "execution_count": 70,
     "metadata": {},
     "output_type": "execute_result"
    },
    {
     "data": {
      "image/png": "[encoded data removed]",
      "text/plain": [
       "<Figure size 504x504 with 1 Axes>"
      ]
     },
     "metadata": {
      "needs_background": "light"
     },
     "output_type": "display_data"
    }
   ],
   "source": [
    "platform_df = df[df.platform.isin([\"Wii\", \"PC\", \"PlayStation 4\", \"Xbox One\"])]\n",
    "platform_df = pd.DataFrame(platform_df.groupby(['platform', 'genre']).score.mean().sort_values(ascending=False))\n",
    "platform_df = platform_df.reset_index()\n",
    "platform_df = platform_df[platform_df.score > 7.5]\n",
    "platform_df['Platform/Genre'] = platform_df.apply(lambda row: row.platform + '_' + row.genre, axis=1)\n",
    "platform_df.plot(kind='barh', x='Platform/Genre', figsize=(7, 7))"
   ]
  }
 ],
 "metadata": {
  "kernelspec": {
   "display_name": "Python 3",
   "language": "python",
   "name": "python3"
  },
  "language_info": {
   "codemirror_mode": {
    "name": "ipython",
    "version": 3
   },
   "file_extension": ".py",
   "mimetype": "text/x-python",
   "name": "python",
   "nbconvert_exporter": "python",
   "pygments_lexer": "ipython3",
   "version": "3.7.3"
  }
 },
 "nbformat": 4,
 "nbformat_minor": 2
}
